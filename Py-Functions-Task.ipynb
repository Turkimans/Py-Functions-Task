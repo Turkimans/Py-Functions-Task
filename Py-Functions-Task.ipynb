{
 "cells": [
  {
   "cell_type": "code",
   "execution_count": 1,
   "id": "855c7475-7dce-4a1f-8023-dc04ca86d876",
   "metadata": {
    "tags": []
   },
   "outputs": [
    {
     "name": "stdout",
     "output_type": "stream",
     "text": [
      "[1, 2, 3, 4]\n"
     ]
    }
   ],
   "source": [
    "List=[1,2,3,4]\n",
    "print(List)"
   ]
  },
  {
   "cell_type": "code",
   "execution_count": 2,
   "id": "dd4875bc-3f7b-4308-8499-36356cd9f70f",
   "metadata": {
    "tags": []
   },
   "outputs": [],
   "source": [
    "#def add_numbers(num1, num2):\n",
    " #   return num1 + num2\n",
    "\n",
    "List=[1,2,3,4]\n",
    "def  two_numb (num1, num2):\n",
    "    return num1 + num2\n",
    "\n",
    "#print(List)\n",
    "two_numb()  #if want to call the function\n"
   ]
  },
  {
   "cell_type": "code",
   "execution_count": 10,
   "id": "6f12c73f-f16e-4071-9806-156a69d9e24f",
   "metadata": {
    "tags": []
   },
   "outputs": [
    {
     "name": "stdout",
     "output_type": "stream",
     "text": [
      "1\n",
      "2\n",
      "3\n",
      "4\n"
     ]
    }
   ],
   "source": [
    "List = [1, 2, 3, 4]\n",
    "for i in List:\n",
    "  print(i)\n"
   ]
  },
  {
   "cell_type": "code",
   "execution_count": 11,
   "id": "22fc5fdb-b70c-4428-8bf5-0a239035a017",
   "metadata": {
    "tags": []
   },
   "outputs": [
    {
     "name": "stdout",
     "output_type": "stream",
     "text": [
      "10\n"
     ]
    }
   ],
   "source": [
    "List = [1, 2, 3, 4]\n",
    "total_sum = sum(List)\n",
    "print(total_sum)"
   ]
  },
  {
   "cell_type": "code",
   "execution_count": 12,
   "id": "ca0af457-6442-41cc-b96f-f7908bb0b92e",
   "metadata": {
    "tags": []
   },
   "outputs": [
    {
     "name": "stdout",
     "output_type": "stream",
     "text": [
      "4\n"
     ]
    }
   ],
   "source": [
    "List = [1, 2, 3, 4]\n",
    "total_max = max(List)\n",
    "print(total_max)"
   ]
  },
  {
   "cell_type": "code",
   "execution_count": 36,
   "id": "d18a0f09-7a94-4c1b-93f8-edd52ae79cbb",
   "metadata": {
    "tags": []
   },
   "outputs": [
    {
     "name": "stdout",
     "output_type": "stream",
     "text": [
      "[1, 2, 3]\n"
     ]
    }
   ],
   "source": [
    "def partial_list(lst, number):\n",
    "\n",
    "    if number >= len(lst):\n",
    "        return lst  \n",
    "    else:\n",
    "        return lst[:number]  \n",
    "my_list = [1, 2, 3, 4, 5]\n",
    "result = partial_list(my_list, 3)\n",
    "\n",
    "print(result)  \n",
    "\n"
   ]
  },
  {
   "cell_type": "code",
   "execution_count": 14,
   "id": "ef062171-859a-476c-9d2d-895d48be96ab",
   "metadata": {
    "tags": []
   },
   "outputs": [
    {
     "name": "stdout",
     "output_type": "stream",
     "text": [
      "T\n",
      "u\n",
      "w\n",
      "a\n",
      "i\n",
      "q\n",
      "_\n",
      "A\n",
      "c\n",
      "a\n",
      "d\n",
      "e\n",
      "m\n",
      "y\n"
     ]
    }
   ],
   "source": [
    "string = \"Tuwaiq_Academy\"\n",
    "\n",
    "for letter in string:\n",
    "    print(letter)\n"
   ]
  },
  {
   "cell_type": "code",
   "execution_count": 15,
   "id": "f266d109-533f-4c58-b01d-274d14c38e8c",
   "metadata": {
    "tags": []
   },
   "outputs": [
    {
     "name": "stdout",
     "output_type": "stream",
     "text": [
      "Python\n"
     ]
    }
   ],
   "source": [
    "prog_list = [\"Python\", \"C++\", \"Java\"]\n",
    "\n",
    "for x in prog_list:\n",
    "    if x == \"C++\":\n",
    "        break  \n",
    "    print(x)\n",
    "\n"
   ]
  },
  {
   "cell_type": "code",
   "execution_count": 32,
   "id": "7f05d004-e4f7-439c-9d13-f31f3e6bb9a6",
   "metadata": {
    "tags": []
   },
   "outputs": [
    {
     "name": "stdout",
     "output_type": "stream",
     "text": [
      "[3, 7, 2, 1, 4, 0, 0, 0, 0]\n"
     ]
    }
   ],
   "source": [
    "def rearrange_list(list):\n",
    "    \n",
    "    non_zero_elements = []\n",
    "    zeros = []\n",
    "\n",
    "    for num in input_list:\n",
    "        if num != 0:\n",
    "            non_zero_elements.append(num)\n",
    "        else:\n",
    "            zeros.append(num)\n",
    "\n",
    "    \n",
    "    arranged_list = non_zero_elements + zeros\n",
    "\n",
    "    return arranged_list\n",
    "list = [3, 0, 7, 0, 2, 0, 1, 0, 4]\n",
    "arranged_list = rearrange_zeros_to_end(original_list)\n",
    "print(arranged_list)\n"
   ]
  },
  {
   "cell_type": "code",
   "execution_count": null,
   "id": "78b95488-5997-4b5d-9896-5181d762a72e",
   "metadata": {},
   "outputs": [],
   "source": []
  },
  {
   "cell_type": "code",
   "execution_count": null,
   "id": "0344dce2-6ee9-46af-95ec-3700ec482a24",
   "metadata": {},
   "outputs": [],
   "source": []
  }
 ],
 "metadata": {
  "kernelspec": {
   "display_name": "Python 3 (ipykernel)",
   "language": "python",
   "name": "python3"
  },
  "language_info": {
   "codemirror_mode": {
    "name": "ipython",
    "version": 3
   },
   "file_extension": ".py",
   "mimetype": "text/x-python",
   "name": "python",
   "nbconvert_exporter": "python",
   "pygments_lexer": "ipython3",
   "version": "3.11.4"
  }
 },
 "nbformat": 4,
 "nbformat_minor": 5
}
